{
 "cells": [
  {
   "cell_type": "code",
   "execution_count": null,
   "id": "13ad7cc3",
   "metadata": {},
   "outputs": [],
   "source": [
    "import phosphonetworks as pp"
   ]
  },
  {
   "cell_type": "markdown",
   "id": "a53e5fb1",
   "metadata": {},
   "source": [
    "To reproduce the results of the paper, users first need to download the dataset from the following Zenodo repository: https://zenodo.org/records/13953098\n",
    "\n",
    "We provide a helper function to download data directly into a target directory:"
   ]
  },
  {
   "cell_type": "code",
   "execution_count": null,
   "id": "5d2c0ff3",
   "metadata": {},
   "outputs": [],
   "source": [
    "target_dir = '/tmp/pp_test/'\n",
    "pp.utils.download_manuscript_data(target_dir = target_dir)\n",
    "# we also need to set this directory as the CACHE DIR for the rest of the analysis\n",
    "pp.config.CACHE_DIR = target_dir + 'phosphonetworks_data/'"
   ]
  },
  {
   "cell_type": "markdown",
   "id": "8f9098cb",
   "metadata": {},
   "source": [
    "The functions below run the pipelines that generate the figures in the manuscript. \n",
    "Each pipeline is a sequence of functions that process data and generate plots. "
   ]
  },
  {
   "cell_type": "code",
   "execution_count": null,
   "id": "9c1963b8",
   "metadata": {},
   "outputs": [],
   "source": [
    "pp.pipelines.run_kinsub_pipeline() # Figure 1"
   ]
  },
  {
   "cell_type": "code",
   "execution_count": null,
   "id": "61071b85",
   "metadata": {},
   "outputs": [],
   "source": [
    "pp.pipelines.run_site_pipeline() # Figure 2"
   ]
  },
  {
   "cell_type": "code",
   "execution_count": null,
   "id": "4672404d",
   "metadata": {},
   "outputs": [],
   "source": [
    "pp.pipelines.run_egf_kin_pipeline() # Figure 3"
   ]
  },
  {
   "cell_type": "code",
   "execution_count": null,
   "id": "f18ab95f",
   "metadata": {},
   "outputs": [],
   "source": [
    "pp.pipelines.run_egf_gt_pipeline() # Figure 4"
   ]
  },
  {
   "cell_type": "code",
   "execution_count": null,
   "id": "e02603fc",
   "metadata": {},
   "outputs": [],
   "source": [
    "pp.pipelines.run_net_benchmark_pipeline() # Figure 5"
   ]
  }
 ],
 "metadata": {
  "kernelspec": {
   "display_name": "test",
   "language": "python",
   "name": "python3"
  },
  "language_info": {
   "codemirror_mode": {
    "name": "ipython",
    "version": 3
   },
   "file_extension": ".py",
   "mimetype": "text/x-python",
   "name": "python",
   "nbconvert_exporter": "python",
   "pygments_lexer": "ipython3",
   "version": "3.10.18"
  }
 },
 "nbformat": 4,
 "nbformat_minor": 5
}
